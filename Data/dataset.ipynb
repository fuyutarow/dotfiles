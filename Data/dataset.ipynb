{
 "cells": [
  {
   "cell_type": "code",
   "execution_count": 1,
   "metadata": {},
   "outputs": [],
   "source": [
    "from sklearn import datasets\n",
    "import pandas as pd"
   ]
  },
  {
   "cell_type": "code",
   "execution_count": 2,
   "metadata": {},
   "outputs": [],
   "source": [
    "boston = datasets.load_boston()\n",
    "iris = datasets.load_iris()\n",
    "\n",
    "dataset = boston\n",
    "df = pd.DataFrame(dataset['data'], columns=dataset['feature_names'])\n",
    "df['target'] = dataset['target']\n",
    "df.to_csv('boston.csv')\n",
    "n = len(df)//10\n",
    "df.iloc[:n].to_csv('boston/test.csv')\n",
    "df.iloc[n:].to_csv('boston/train.csv')\n",
    "\n",
    "dataset = iris\n",
    "df = pd.DataFrame(dataset['data'], columns=dataset['feature_names'])\n",
    "df['target'] = dataset['target']\n",
    "df.to_csv('iris.csv')\n",
    "n = len(df)//10\n",
    "df.iloc[:n].to_csv('iris/test.csv')\n",
    "df.iloc[n:].to_csv('iris/train.csv')"
   ]
  },
  {
   "cell_type": "code",
   "execution_count": null,
   "metadata": {},
   "outputs": [],
   "source": []
  }
 ],
 "metadata": {
  "kernelspec": {
   "display_name": "Python 3",
   "language": "python",
   "name": "python3"
  },
  "language_info": {
   "codemirror_mode": {
    "name": "ipython",
    "version": 3
   },
   "file_extension": ".py",
   "mimetype": "text/x-python",
   "name": "python",
   "nbconvert_exporter": "python",
   "pygments_lexer": "ipython3",
   "version": "3.6.6"
  }
 },
 "nbformat": 4,
 "nbformat_minor": 2
}
